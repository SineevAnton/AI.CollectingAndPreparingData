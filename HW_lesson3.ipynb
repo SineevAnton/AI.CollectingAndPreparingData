{
 "cells": [
  {
   "cell_type": "markdown",
   "source": [
    "# Методы сбора и обработки данных из сети Интернет\n",
    "___\n",
    "___\n",
    "## Урок 3. Парсинг данных. HTML, Beautiful Soap\n",
    "___"
   ],
   "metadata": {
    "collapsed": false
   }
  },
  {
   "cell_type": "markdown",
   "source": [
    "### Задачи\n",
    "\n",
    "Необходимо собрать информацию о вакансиях на вводимую должность (используем input или через аргументы получаем должность) с сайтов HH(обязательно) и/или Superjob(по желанию). Приложение должно анализировать несколько страниц сайта (также вводим через input или аргументы). Получившийся список должен содержать в себе минимум:\n",
    "Наименование вакансии.\n",
    "Предлагаемую зарплату (разносим в три поля: минимальная и максимальная и валюта. цифры преобразуем к цифрам).\n",
    "Ссылку на саму вакансию.\n",
    "Сайт, откуда собрана вакансия."
   ],
   "metadata": {
    "collapsed": false
   }
  },
  {
   "cell_type": "code",
   "execution_count": 1,
   "id": "533e6bc2",
   "metadata": {
    "id": "533e6bc2"
   },
   "outputs": [],
   "source": [
    "from pprint import pprint\n",
    "from bs4 import BeautifulSoup as bs\n",
    "import requests\n",
    "import pandas as pd"
   ]
  },
  {
   "cell_type": "code",
   "execution_count": 2,
   "id": "40c4a466",
   "metadata": {
    "id": "40c4a466"
   },
   "outputs": [],
   "source": [
    "USER_AGENT = 'Mozilla/5.0 (Macintosh; Intel Mac OS X 13_2) AppleWebKit/537.36 (KHTML, like Gecko) Chrome/109.0.0.0 Safari/537.36'\n",
    "URL1 = 'https://hh.ru/search/vacancy?text=Datascience&from=suggest_post&salary=&area=1&ored_clusters=true&enable_snippets=true'\n",
    "URL = 'https://hh.ru/search/vacancy?area=88&search_field=name&search_field=company_name&search_field=description&text=Data Science&no_magic=true&L_save_area=true&items_on_page=20'"
   ]
  },
  {
   "cell_type": "code",
   "execution_count": 3,
   "id": "3eb58026",
   "metadata": {
    "id": "3eb58026"
   },
   "outputs": [],
   "source": [
    "headers = {\n",
    "    'User-Agent': USER_AGENT,\n",
    "}"
   ]
  },
  {
   "cell_type": "code",
   "execution_count": 4,
   "id": "debb7cfc",
   "metadata": {
    "id": "debb7cfc"
   },
   "outputs": [],
   "source": [
    "def parse_hh(url_page, headers, result=[], index_page=1):\n",
    "    response = requests.get(url_page, headers=headers)\n",
    "    if response.status_code != 200:\n",
    "      print('Парсинг завершен')\n",
    "      return result\n",
    "    else:\n",
    "      print('Cтраница №%d, ссылка: %s'%(index_page, response.url))\n",
    "\n",
    "    dom = bs(response.content, 'html.parser')\n",
    "    vacancies = dom.find_all('div', {'class': 'vacancy-serp-item__layout'})\n",
    "    for vacancy in vacancies:\n",
    "      result.append(parse_vacancy_hh(vacancy))\n",
    "\n",
    "    link_next_page = dom.find('a', {'data-qa': 'pager-next'})\n",
    "    if link_next_page:\n",
    "      link_next_page =  'https://hh.ru' + link_next_page['href']\n",
    "    else:\n",
    "      print('Парсинг завершен')\n",
    "      return result\n",
    "\n",
    "    result = parse_hh(link_next_page, headers, result, index_page+1)   \n",
    "    return result\n",
    "     \n",
    "def parse_vacancy_hh(dom_vacancy):\n",
    "  vacancy_name = dom_vacancy.find('a').text\n",
    "\n",
    "  vacancy_salary = dom_vacancy.find('span', {'class', 'bloko-header-section-3'})\n",
    "  if vacancy_salary:\n",
    "    vacancy_salary = vacancy_salary.text\n",
    "    min_salary, max_salary, currency_salary = clean_salary(vacancy_salary)\n",
    "  else:\n",
    "    min_salary, max_salary, currency_salary = None, None, None\n",
    "\n",
    "  vacancy_link = dom_vacancy.find('a')['href']\n",
    "  \n",
    "  return {\n",
    "      'vacancy_name': vacancy_name,\n",
    "      'vacancy_salary': vacancy_salary,\n",
    "      'min_salary': min_salary,\n",
    "      'max_salary': max_salary,\n",
    "      'currency_salary': currency_salary,\n",
    "      'vacancy_link': vacancy_link,\n",
    "      'vacancy_source': 'hh.ru',\n",
    "  }\n",
    "\n",
    "def clean_salary(vacancy_salary_text, min_salary=None, max_salary=None, currency_salary=None):\n",
    "  list_salary = vacancy_salary_text.replace('\\u202f', '').split()\n",
    "  for i in range(len(list_salary) - 1):\n",
    "    if list_salary[i] == 'от':\n",
    "      min_salary = int(list_salary[i + 1])\n",
    "    elif list_salary[i] == 'до':\n",
    "      max_salary = int(list_salary[i + 1])\n",
    "    elif list_salary[i] == '–':\n",
    "      min_salary = int(list_salary[i - 1])\n",
    "      max_salary = int(list_salary[i + 1])\n",
    "  currency_salary = list_salary[-1]\n",
    "\n",
    "  return min_salary, max_salary, currency_salary"
   ]
  },
  {
   "cell_type": "code",
   "execution_count": 5,
   "id": "6d47b54b",
   "metadata": {
    "colab": {
     "base_uri": "https://localhost:8080/"
    },
    "id": "6d47b54b",
    "executionInfo": {
     "status": "ok",
     "timestamp": 1663066401371,
     "user_tz": -180,
     "elapsed": 36883,
     "user": {
      "displayName": "Эрик Муллагалиев",
      "userId": "09073712434566956400"
     }
    },
    "outputId": "eb1e66b5-ba8c-4e34-bdb0-3eef70a7e575"
   },
   "outputs": [
    {
     "name": "stdout",
     "output_type": "stream",
     "text": [
      "Cтраница №1, ссылка: https://hh.ru/search/vacancy?area=88&search_field=name&search_field=company_name&search_field=description&text=Data%20Science&no_magic=true&L_save_area=true&items_on_page=20\n",
      "Cтраница №2, ссылка: https://hh.ru/search/vacancy?area=88&search_field=name&search_field=company_name&search_field=description&text=Data+Science&no_magic=true&L_save_area=true&items_on_page=20&page=1&hhtmFrom=vacancy_search_list\n",
      "Парсинг завершен\n"
     ]
    }
   ],
   "source": [
    "result = parse_hh(URL, headers)"
   ]
  },
  {
   "cell_type": "code",
   "source": [
    "len(result)"
   ],
   "metadata": {
    "colab": {
     "base_uri": "https://localhost:8080/"
    },
    "id": "Hn-VsMsHdZHO",
    "executionInfo": {
     "status": "ok",
     "timestamp": 1663066401375,
     "user_tz": -180,
     "elapsed": 71,
     "user": {
      "displayName": "Эрик Муллагалиев",
      "userId": "09073712434566956400"
     }
    },
    "outputId": "74098d3a-ddcb-4777-ed7d-1f635b383f79"
   },
   "id": "Hn-VsMsHdZHO",
   "execution_count": 6,
   "outputs": [
    {
     "data": {
      "text/plain": "30"
     },
     "execution_count": 6,
     "metadata": {},
     "output_type": "execute_result"
    }
   ]
  },
  {
   "cell_type": "code",
   "source": [
    "result"
   ],
   "metadata": {
    "colab": {
     "base_uri": "https://localhost:8080/"
    },
    "id": "asYAm_q6flFm",
    "executionInfo": {
     "status": "ok",
     "timestamp": 1663066595949,
     "user_tz": -180,
     "elapsed": 97,
     "user": {
      "displayName": "Эрик Муллагалиев",
      "userId": "09073712434566956400"
     }
    },
    "outputId": "66655a2a-1be5-4db7-b656-c962912c4b7d"
   },
   "id": "asYAm_q6flFm",
   "execution_count": 7,
   "outputs": [
    {
     "data": {
      "text/plain": "[{'vacancy_name': 'Специалист по Data Science',\n  'vacancy_salary': None,\n  'min_salary': None,\n  'max_salary': None,\n  'currency_salary': None,\n  'vacancy_link': 'https://hh.ru/vacancy/77484387?from=vacancy_search_list&query=Data+Science',\n  'vacancy_source': 'hh.ru'},\n {'vacancy_name': 'IT Recriuter ML, AI, Big Data',\n  'vacancy_salary': None,\n  'min_salary': None,\n  'max_salary': None,\n  'currency_salary': None,\n  'vacancy_link': 'https://hh.ru/vacancy/77618077?from=vacancy_search_list&query=Data+Science',\n  'vacancy_source': 'hh.ru'},\n {'vacancy_name': 'Python backend-разработчик в команду Data Science',\n  'vacancy_salary': None,\n  'min_salary': None,\n  'max_salary': None,\n  'currency_salary': None,\n  'vacancy_link': 'https://hh.ru/vacancy/77050357?from=vacancy_search_list&query=Data+Science',\n  'vacancy_source': 'hh.ru'},\n {'vacancy_name': 'Системный аналитик (systems analyst)',\n  'vacancy_salary': 'от 120\\u202f000 руб.',\n  'min_salary': 120000,\n  'max_salary': None,\n  'currency_salary': 'руб.',\n  'vacancy_link': 'https://hh.ru/vacancy/77145441?from=vacancy_search_list&query=Data+Science',\n  'vacancy_source': 'hh.ru'},\n {'vacancy_name': 'Инженер - исследователь (Data Science)',\n  'vacancy_salary': None,\n  'min_salary': None,\n  'max_salary': None,\n  'currency_salary': None,\n  'vacancy_link': 'https://hh.ru/vacancy/77129293?from=vacancy_search_list&query=Data+Science',\n  'vacancy_source': 'hh.ru'},\n {'vacancy_name': 'Assistant Professor - Data Science&AI (eng)',\n  'vacancy_salary': None,\n  'min_salary': None,\n  'max_salary': None,\n  'currency_salary': None,\n  'vacancy_link': 'https://hh.ru/vacancy/73328580?from=vacancy_search_list&query=Data+Science',\n  'vacancy_source': 'hh.ru'},\n {'vacancy_name': 'Associate Professor - Data Science&AI (eng)',\n  'vacancy_salary': None,\n  'min_salary': None,\n  'max_salary': None,\n  'currency_salary': None,\n  'vacancy_link': 'https://hh.ru/vacancy/73328887?from=vacancy_search_list&query=Data+Science',\n  'vacancy_source': 'hh.ru'},\n {'vacancy_name': 'Системный аналитик (Инвестиционный бизнес)',\n  'vacancy_salary': None,\n  'min_salary': None,\n  'max_salary': None,\n  'currency_salary': None,\n  'vacancy_link': 'https://hh.ru/vacancy/77698888?from=vacancy_search_list&query=Data+Science',\n  'vacancy_source': 'hh.ru'},\n {'vacancy_name': 'Инженер данных (качество сервисов,SLA)',\n  'vacancy_salary': None,\n  'min_salary': None,\n  'max_salary': None,\n  'currency_salary': None,\n  'vacancy_link': 'https://hh.ru/vacancy/70972873?from=vacancy_search_list&query=Data+Science',\n  'vacancy_source': 'hh.ru'},\n {'vacancy_name': 'Специалист технической поддержки (чаты)',\n  'vacancy_salary': 'от 40\\u202f000 руб.',\n  'min_salary': 40000,\n  'max_salary': None,\n  'currency_salary': 'руб.',\n  'vacancy_link': 'https://hh.ru/vacancy/77127896?from=vacancy_search_list&query=Data+Science',\n  'vacancy_source': 'hh.ru'},\n {'vacancy_name': 'Senior Java Backend',\n  'vacancy_salary': 'до 450\\u202f000 руб.',\n  'min_salary': None,\n  'max_salary': 450000,\n  'currency_salary': 'руб.',\n  'vacancy_link': 'https://hh.ru/vacancy/77617915?from=vacancy_search_list&query=Data+Science',\n  'vacancy_source': 'hh.ru'},\n {'vacancy_name': 'Software Engineer Middle',\n  'vacancy_salary': '180\\u202f000 – 260\\u202f000 руб.',\n  'min_salary': 180000,\n  'max_salary': 260000,\n  'currency_salary': 'руб.',\n  'vacancy_link': 'https://hh.ru/vacancy/77604898?from=vacancy_search_list&query=Data+Science',\n  'vacancy_source': 'hh.ru'},\n {'vacancy_name': 'Специалист группы поддержки клиентов (МаниМен)',\n  'vacancy_salary': 'от 50\\u202f000 руб.',\n  'min_salary': 50000,\n  'max_salary': None,\n  'currency_salary': 'руб.',\n  'vacancy_link': 'https://hh.ru/vacancy/77019236?from=vacancy_search_list&query=Data+Science',\n  'vacancy_source': 'hh.ru'},\n {'vacancy_name': 'Middle/Senior Computer Vision Engineer',\n  'vacancy_salary': None,\n  'min_salary': None,\n  'max_salary': None,\n  'currency_salary': None,\n  'vacancy_link': 'https://hh.ru/vacancy/77398262?from=vacancy_search_list&query=Data+Science',\n  'vacancy_source': 'hh.ru'},\n {'vacancy_name': 'Юрист в сфере банкротства',\n  'vacancy_salary': 'от 45\\u202f000 руб.',\n  'min_salary': 45000,\n  'max_salary': None,\n  'currency_salary': 'руб.',\n  'vacancy_link': 'https://hh.ru/vacancy/75578296?from=vacancy_search_list&query=Data+Science',\n  'vacancy_source': 'hh.ru'},\n {'vacancy_name': 'Специалист по подбору персонала / Рекрутер',\n  'vacancy_salary': 'от 35\\u202f000 руб.',\n  'min_salary': 35000,\n  'max_salary': None,\n  'currency_salary': 'руб.',\n  'vacancy_link': 'https://hh.ru/vacancy/76775679?from=vacancy_search_list&query=Data+Science',\n  'vacancy_source': 'hh.ru'},\n {'vacancy_name': 'Менеджер по работе с клиентами (МаниМен)',\n  'vacancy_salary': 'от 45\\u202f000 руб.',\n  'min_salary': 45000,\n  'max_salary': None,\n  'currency_salary': 'руб.',\n  'vacancy_link': 'https://hh.ru/vacancy/75556425?from=vacancy_search_list&query=Data+Science',\n  'vacancy_source': 'hh.ru'},\n {'vacancy_name': 'Специалист отдела по работе с клиентами',\n  'vacancy_salary': 'от 50\\u202f000 руб.',\n  'min_salary': 50000,\n  'max_salary': None,\n  'currency_salary': 'руб.',\n  'vacancy_link': 'https://hh.ru/vacancy/77197730?from=vacancy_search_list&query=Data+Science',\n  'vacancy_source': 'hh.ru'},\n {'vacancy_name': 'Ведущий специалист по работе с просроченной задолженностью',\n  'vacancy_salary': 'от 70\\u202f000 руб.',\n  'min_salary': 70000,\n  'max_salary': None,\n  'currency_salary': 'руб.',\n  'vacancy_link': 'https://hh.ru/vacancy/75557215?from=vacancy_search_list&query=Data+Science',\n  'vacancy_source': 'hh.ru'},\n {'vacancy_name': 'Специалист выездного взыскания',\n  'vacancy_salary': 'от 70\\u202f000 руб.',\n  'min_salary': 70000,\n  'max_salary': None,\n  'currency_salary': 'руб.',\n  'vacancy_link': 'https://hh.ru/vacancy/77493608?from=vacancy_search_list&query=Data+Science',\n  'vacancy_source': 'hh.ru'},\n {'vacancy_name': 'Assistant Professor - Software Development and Engineering (eng)',\n  'vacancy_salary': None,\n  'min_salary': None,\n  'max_salary': None,\n  'currency_salary': None,\n  'vacancy_link': 'https://hh.ru/vacancy/73329524?from=vacancy_search_list&query=Data+Science',\n  'vacancy_source': 'hh.ru'},\n {'vacancy_name': 'Специалист отдела по судебно - претензионной работе',\n  'vacancy_salary': 'от 35\\u202f000 руб.',\n  'min_salary': 35000,\n  'max_salary': None,\n  'currency_salary': 'руб.',\n  'vacancy_link': 'https://hh.ru/vacancy/76852377?from=vacancy_search_list&query=Data+Science',\n  'vacancy_source': 'hh.ru'},\n {'vacancy_name': 'Специалист группы поддержки клиентов (Мани Мен)',\n  'vacancy_salary': '40\\u202f000 – 60\\u202f000 руб.',\n  'min_salary': 40000,\n  'max_salary': 60000,\n  'currency_salary': 'руб.',\n  'vacancy_link': 'https://hh.ru/vacancy/77416376?from=vacancy_search_list&query=Data+Science',\n  'vacancy_source': 'hh.ru'},\n {'vacancy_name': 'Senior Python разработчик',\n  'vacancy_salary': None,\n  'min_salary': None,\n  'max_salary': None,\n  'currency_salary': None,\n  'vacancy_link': 'https://hh.ru/vacancy/76287301?from=vacancy_search_list&query=Data+Science',\n  'vacancy_source': 'hh.ru'},\n {'vacancy_name': 'Руководитель IT проектов',\n  'vacancy_salary': None,\n  'min_salary': None,\n  'max_salary': None,\n  'currency_salary': None,\n  'vacancy_link': 'https://hh.ru/vacancy/77019764?from=vacancy_search_list&query=Data+Science',\n  'vacancy_source': 'hh.ru'},\n {'vacancy_name': 'DevOps инженер',\n  'vacancy_salary': None,\n  'min_salary': None,\n  'max_salary': None,\n  'currency_salary': None,\n  'vacancy_link': 'https://hh.ru/vacancy/75684741?from=vacancy_search_list&query=Data+Science',\n  'vacancy_source': 'hh.ru'},\n {'vacancy_name': 'Начинающий юрист',\n  'vacancy_salary': 'от 35\\u202f000 руб.',\n  'min_salary': 35000,\n  'max_salary': None,\n  'currency_salary': 'руб.',\n  'vacancy_link': 'https://hh.ru/vacancy/76852476?from=vacancy_search_list&query=Data+Science',\n  'vacancy_source': 'hh.ru'},\n {'vacancy_name': 'Java Developer',\n  'vacancy_salary': None,\n  'min_salary': None,\n  'max_salary': None,\n  'currency_salary': None,\n  'vacancy_link': 'https://hh.ru/vacancy/76810332?from=vacancy_search_list&query=Data+Science',\n  'vacancy_source': 'hh.ru'},\n {'vacancy_name': 'Python разработчик (Middle/Senior)',\n  'vacancy_salary': None,\n  'min_salary': None,\n  'max_salary': None,\n  'currency_salary': None,\n  'vacancy_link': 'https://hh.ru/vacancy/75627492?from=vacancy_search_list&query=Data+Science',\n  'vacancy_source': 'hh.ru'},\n {'vacancy_name': 'Специалист по обучению и развитию',\n  'vacancy_salary': 'от 80\\u202f000 руб.',\n  'min_salary': 80000,\n  'max_salary': None,\n  'currency_salary': 'руб.',\n  'vacancy_link': 'https://hh.ru/vacancy/75635288?from=vacancy_search_list&query=Data+Science',\n  'vacancy_source': 'hh.ru'}]"
     },
     "execution_count": 7,
     "metadata": {},
     "output_type": "execute_result"
    }
   ]
  },
  {
   "cell_type": "code",
   "source": [
    "data = pd.DataFrame(result)\n",
    "data"
   ],
   "metadata": {
    "id": "ZBgedfYAfl2E"
   },
   "id": "ZBgedfYAfl2E",
   "execution_count": 8,
   "outputs": [
    {
     "data": {
      "text/plain": "                                         vacancy_name          vacancy_salary  \\\n0                          Специалист по Data Science                    None   \n1                       IT Recriuter ML, AI, Big Data                    None   \n2   Python backend-разработчик в команду Data Science                    None   \n3                Системный аналитик (systems analyst)         от 120 000 руб.   \n4              Инженер - исследователь (Data Science)                    None   \n5         Assistant Professor - Data Science&AI (eng)                    None   \n6         Associate Professor - Data Science&AI (eng)                    None   \n7          Системный аналитик (Инвестиционный бизнес)                    None   \n8              Инженер данных (качество сервисов,SLA)                    None   \n9             Специалист технической поддержки (чаты)          от 40 000 руб.   \n10                                Senior Java Backend         до 450 000 руб.   \n11                           Software Engineer Middle  180 000 – 260 000 руб.   \n12     Специалист группы поддержки клиентов (МаниМен)          от 50 000 руб.   \n13             Middle/Senior Computer Vision Engineer                    None   \n14                          Юрист в сфере банкротства          от 45 000 руб.   \n15         Специалист по подбору персонала / Рекрутер          от 35 000 руб.   \n16           Менеджер по работе с клиентами (МаниМен)          от 45 000 руб.   \n17            Специалист отдела по работе с клиентами          от 50 000 руб.   \n18  Ведущий специалист по работе с просроченной за...          от 70 000 руб.   \n19                     Специалист выездного взыскания          от 70 000 руб.   \n20  Assistant Professor - Software Development and...                    None   \n21  Специалист отдела по судебно - претензионной р...          от 35 000 руб.   \n22    Специалист группы поддержки клиентов (Мани Мен)    40 000 – 60 000 руб.   \n23                          Senior Python разработчик                    None   \n24                           Руководитель IT проектов                    None   \n25                                     DevOps инженер                    None   \n26                                   Начинающий юрист          от 35 000 руб.   \n27                                     Java Developer                    None   \n28                 Python разработчик (Middle/Senior)                    None   \n29                  Специалист по обучению и развитию          от 80 000 руб.   \n\n    min_salary  max_salary currency_salary  \\\n0          NaN         NaN            None   \n1          NaN         NaN            None   \n2          NaN         NaN            None   \n3     120000.0         NaN            руб.   \n4          NaN         NaN            None   \n5          NaN         NaN            None   \n6          NaN         NaN            None   \n7          NaN         NaN            None   \n8          NaN         NaN            None   \n9      40000.0         NaN            руб.   \n10         NaN    450000.0            руб.   \n11    180000.0    260000.0            руб.   \n12     50000.0         NaN            руб.   \n13         NaN         NaN            None   \n14     45000.0         NaN            руб.   \n15     35000.0         NaN            руб.   \n16     45000.0         NaN            руб.   \n17     50000.0         NaN            руб.   \n18     70000.0         NaN            руб.   \n19     70000.0         NaN            руб.   \n20         NaN         NaN            None   \n21     35000.0         NaN            руб.   \n22     40000.0     60000.0            руб.   \n23         NaN         NaN            None   \n24         NaN         NaN            None   \n25         NaN         NaN            None   \n26     35000.0         NaN            руб.   \n27         NaN         NaN            None   \n28         NaN         NaN            None   \n29     80000.0         NaN            руб.   \n\n                                         vacancy_link vacancy_source  \n0   https://hh.ru/vacancy/77484387?from=vacancy_se...          hh.ru  \n1   https://hh.ru/vacancy/77618077?from=vacancy_se...          hh.ru  \n2   https://hh.ru/vacancy/77050357?from=vacancy_se...          hh.ru  \n3   https://hh.ru/vacancy/77145441?from=vacancy_se...          hh.ru  \n4   https://hh.ru/vacancy/77129293?from=vacancy_se...          hh.ru  \n5   https://hh.ru/vacancy/73328580?from=vacancy_se...          hh.ru  \n6   https://hh.ru/vacancy/73328887?from=vacancy_se...          hh.ru  \n7   https://hh.ru/vacancy/77698888?from=vacancy_se...          hh.ru  \n8   https://hh.ru/vacancy/70972873?from=vacancy_se...          hh.ru  \n9   https://hh.ru/vacancy/77127896?from=vacancy_se...          hh.ru  \n10  https://hh.ru/vacancy/77617915?from=vacancy_se...          hh.ru  \n11  https://hh.ru/vacancy/77604898?from=vacancy_se...          hh.ru  \n12  https://hh.ru/vacancy/77019236?from=vacancy_se...          hh.ru  \n13  https://hh.ru/vacancy/77398262?from=vacancy_se...          hh.ru  \n14  https://hh.ru/vacancy/75578296?from=vacancy_se...          hh.ru  \n15  https://hh.ru/vacancy/76775679?from=vacancy_se...          hh.ru  \n16  https://hh.ru/vacancy/75556425?from=vacancy_se...          hh.ru  \n17  https://hh.ru/vacancy/77197730?from=vacancy_se...          hh.ru  \n18  https://hh.ru/vacancy/75557215?from=vacancy_se...          hh.ru  \n19  https://hh.ru/vacancy/77493608?from=vacancy_se...          hh.ru  \n20  https://hh.ru/vacancy/73329524?from=vacancy_se...          hh.ru  \n21  https://hh.ru/vacancy/76852377?from=vacancy_se...          hh.ru  \n22  https://hh.ru/vacancy/77416376?from=vacancy_se...          hh.ru  \n23  https://hh.ru/vacancy/76287301?from=vacancy_se...          hh.ru  \n24  https://hh.ru/vacancy/77019764?from=vacancy_se...          hh.ru  \n25  https://hh.ru/vacancy/75684741?from=vacancy_se...          hh.ru  \n26  https://hh.ru/vacancy/76852476?from=vacancy_se...          hh.ru  \n27  https://hh.ru/vacancy/76810332?from=vacancy_se...          hh.ru  \n28  https://hh.ru/vacancy/75627492?from=vacancy_se...          hh.ru  \n29  https://hh.ru/vacancy/75635288?from=vacancy_se...          hh.ru  ",
      "text/html": "<div>\n<style scoped>\n    .dataframe tbody tr th:only-of-type {\n        vertical-align: middle;\n    }\n\n    .dataframe tbody tr th {\n        vertical-align: top;\n    }\n\n    .dataframe thead th {\n        text-align: right;\n    }\n</style>\n<table border=\"1\" class=\"dataframe\">\n  <thead>\n    <tr style=\"text-align: right;\">\n      <th></th>\n      <th>vacancy_name</th>\n      <th>vacancy_salary</th>\n      <th>min_salary</th>\n      <th>max_salary</th>\n      <th>currency_salary</th>\n      <th>vacancy_link</th>\n      <th>vacancy_source</th>\n    </tr>\n  </thead>\n  <tbody>\n    <tr>\n      <th>0</th>\n      <td>Специалист по Data Science</td>\n      <td>None</td>\n      <td>NaN</td>\n      <td>NaN</td>\n      <td>None</td>\n      <td>https://hh.ru/vacancy/77484387?from=vacancy_se...</td>\n      <td>hh.ru</td>\n    </tr>\n    <tr>\n      <th>1</th>\n      <td>IT Recriuter ML, AI, Big Data</td>\n      <td>None</td>\n      <td>NaN</td>\n      <td>NaN</td>\n      <td>None</td>\n      <td>https://hh.ru/vacancy/77618077?from=vacancy_se...</td>\n      <td>hh.ru</td>\n    </tr>\n    <tr>\n      <th>2</th>\n      <td>Python backend-разработчик в команду Data Science</td>\n      <td>None</td>\n      <td>NaN</td>\n      <td>NaN</td>\n      <td>None</td>\n      <td>https://hh.ru/vacancy/77050357?from=vacancy_se...</td>\n      <td>hh.ru</td>\n    </tr>\n    <tr>\n      <th>3</th>\n      <td>Системный аналитик (systems analyst)</td>\n      <td>от 120 000 руб.</td>\n      <td>120000.0</td>\n      <td>NaN</td>\n      <td>руб.</td>\n      <td>https://hh.ru/vacancy/77145441?from=vacancy_se...</td>\n      <td>hh.ru</td>\n    </tr>\n    <tr>\n      <th>4</th>\n      <td>Инженер - исследователь (Data Science)</td>\n      <td>None</td>\n      <td>NaN</td>\n      <td>NaN</td>\n      <td>None</td>\n      <td>https://hh.ru/vacancy/77129293?from=vacancy_se...</td>\n      <td>hh.ru</td>\n    </tr>\n    <tr>\n      <th>5</th>\n      <td>Assistant Professor - Data Science&amp;AI (eng)</td>\n      <td>None</td>\n      <td>NaN</td>\n      <td>NaN</td>\n      <td>None</td>\n      <td>https://hh.ru/vacancy/73328580?from=vacancy_se...</td>\n      <td>hh.ru</td>\n    </tr>\n    <tr>\n      <th>6</th>\n      <td>Associate Professor - Data Science&amp;AI (eng)</td>\n      <td>None</td>\n      <td>NaN</td>\n      <td>NaN</td>\n      <td>None</td>\n      <td>https://hh.ru/vacancy/73328887?from=vacancy_se...</td>\n      <td>hh.ru</td>\n    </tr>\n    <tr>\n      <th>7</th>\n      <td>Системный аналитик (Инвестиционный бизнес)</td>\n      <td>None</td>\n      <td>NaN</td>\n      <td>NaN</td>\n      <td>None</td>\n      <td>https://hh.ru/vacancy/77698888?from=vacancy_se...</td>\n      <td>hh.ru</td>\n    </tr>\n    <tr>\n      <th>8</th>\n      <td>Инженер данных (качество сервисов,SLA)</td>\n      <td>None</td>\n      <td>NaN</td>\n      <td>NaN</td>\n      <td>None</td>\n      <td>https://hh.ru/vacancy/70972873?from=vacancy_se...</td>\n      <td>hh.ru</td>\n    </tr>\n    <tr>\n      <th>9</th>\n      <td>Специалист технической поддержки (чаты)</td>\n      <td>от 40 000 руб.</td>\n      <td>40000.0</td>\n      <td>NaN</td>\n      <td>руб.</td>\n      <td>https://hh.ru/vacancy/77127896?from=vacancy_se...</td>\n      <td>hh.ru</td>\n    </tr>\n    <tr>\n      <th>10</th>\n      <td>Senior Java Backend</td>\n      <td>до 450 000 руб.</td>\n      <td>NaN</td>\n      <td>450000.0</td>\n      <td>руб.</td>\n      <td>https://hh.ru/vacancy/77617915?from=vacancy_se...</td>\n      <td>hh.ru</td>\n    </tr>\n    <tr>\n      <th>11</th>\n      <td>Software Engineer Middle</td>\n      <td>180 000 – 260 000 руб.</td>\n      <td>180000.0</td>\n      <td>260000.0</td>\n      <td>руб.</td>\n      <td>https://hh.ru/vacancy/77604898?from=vacancy_se...</td>\n      <td>hh.ru</td>\n    </tr>\n    <tr>\n      <th>12</th>\n      <td>Специалист группы поддержки клиентов (МаниМен)</td>\n      <td>от 50 000 руб.</td>\n      <td>50000.0</td>\n      <td>NaN</td>\n      <td>руб.</td>\n      <td>https://hh.ru/vacancy/77019236?from=vacancy_se...</td>\n      <td>hh.ru</td>\n    </tr>\n    <tr>\n      <th>13</th>\n      <td>Middle/Senior Computer Vision Engineer</td>\n      <td>None</td>\n      <td>NaN</td>\n      <td>NaN</td>\n      <td>None</td>\n      <td>https://hh.ru/vacancy/77398262?from=vacancy_se...</td>\n      <td>hh.ru</td>\n    </tr>\n    <tr>\n      <th>14</th>\n      <td>Юрист в сфере банкротства</td>\n      <td>от 45 000 руб.</td>\n      <td>45000.0</td>\n      <td>NaN</td>\n      <td>руб.</td>\n      <td>https://hh.ru/vacancy/75578296?from=vacancy_se...</td>\n      <td>hh.ru</td>\n    </tr>\n    <tr>\n      <th>15</th>\n      <td>Специалист по подбору персонала / Рекрутер</td>\n      <td>от 35 000 руб.</td>\n      <td>35000.0</td>\n      <td>NaN</td>\n      <td>руб.</td>\n      <td>https://hh.ru/vacancy/76775679?from=vacancy_se...</td>\n      <td>hh.ru</td>\n    </tr>\n    <tr>\n      <th>16</th>\n      <td>Менеджер по работе с клиентами (МаниМен)</td>\n      <td>от 45 000 руб.</td>\n      <td>45000.0</td>\n      <td>NaN</td>\n      <td>руб.</td>\n      <td>https://hh.ru/vacancy/75556425?from=vacancy_se...</td>\n      <td>hh.ru</td>\n    </tr>\n    <tr>\n      <th>17</th>\n      <td>Специалист отдела по работе с клиентами</td>\n      <td>от 50 000 руб.</td>\n      <td>50000.0</td>\n      <td>NaN</td>\n      <td>руб.</td>\n      <td>https://hh.ru/vacancy/77197730?from=vacancy_se...</td>\n      <td>hh.ru</td>\n    </tr>\n    <tr>\n      <th>18</th>\n      <td>Ведущий специалист по работе с просроченной за...</td>\n      <td>от 70 000 руб.</td>\n      <td>70000.0</td>\n      <td>NaN</td>\n      <td>руб.</td>\n      <td>https://hh.ru/vacancy/75557215?from=vacancy_se...</td>\n      <td>hh.ru</td>\n    </tr>\n    <tr>\n      <th>19</th>\n      <td>Специалист выездного взыскания</td>\n      <td>от 70 000 руб.</td>\n      <td>70000.0</td>\n      <td>NaN</td>\n      <td>руб.</td>\n      <td>https://hh.ru/vacancy/77493608?from=vacancy_se...</td>\n      <td>hh.ru</td>\n    </tr>\n    <tr>\n      <th>20</th>\n      <td>Assistant Professor - Software Development and...</td>\n      <td>None</td>\n      <td>NaN</td>\n      <td>NaN</td>\n      <td>None</td>\n      <td>https://hh.ru/vacancy/73329524?from=vacancy_se...</td>\n      <td>hh.ru</td>\n    </tr>\n    <tr>\n      <th>21</th>\n      <td>Специалист отдела по судебно - претензионной р...</td>\n      <td>от 35 000 руб.</td>\n      <td>35000.0</td>\n      <td>NaN</td>\n      <td>руб.</td>\n      <td>https://hh.ru/vacancy/76852377?from=vacancy_se...</td>\n      <td>hh.ru</td>\n    </tr>\n    <tr>\n      <th>22</th>\n      <td>Специалист группы поддержки клиентов (Мани Мен)</td>\n      <td>40 000 – 60 000 руб.</td>\n      <td>40000.0</td>\n      <td>60000.0</td>\n      <td>руб.</td>\n      <td>https://hh.ru/vacancy/77416376?from=vacancy_se...</td>\n      <td>hh.ru</td>\n    </tr>\n    <tr>\n      <th>23</th>\n      <td>Senior Python разработчик</td>\n      <td>None</td>\n      <td>NaN</td>\n      <td>NaN</td>\n      <td>None</td>\n      <td>https://hh.ru/vacancy/76287301?from=vacancy_se...</td>\n      <td>hh.ru</td>\n    </tr>\n    <tr>\n      <th>24</th>\n      <td>Руководитель IT проектов</td>\n      <td>None</td>\n      <td>NaN</td>\n      <td>NaN</td>\n      <td>None</td>\n      <td>https://hh.ru/vacancy/77019764?from=vacancy_se...</td>\n      <td>hh.ru</td>\n    </tr>\n    <tr>\n      <th>25</th>\n      <td>DevOps инженер</td>\n      <td>None</td>\n      <td>NaN</td>\n      <td>NaN</td>\n      <td>None</td>\n      <td>https://hh.ru/vacancy/75684741?from=vacancy_se...</td>\n      <td>hh.ru</td>\n    </tr>\n    <tr>\n      <th>26</th>\n      <td>Начинающий юрист</td>\n      <td>от 35 000 руб.</td>\n      <td>35000.0</td>\n      <td>NaN</td>\n      <td>руб.</td>\n      <td>https://hh.ru/vacancy/76852476?from=vacancy_se...</td>\n      <td>hh.ru</td>\n    </tr>\n    <tr>\n      <th>27</th>\n      <td>Java Developer</td>\n      <td>None</td>\n      <td>NaN</td>\n      <td>NaN</td>\n      <td>None</td>\n      <td>https://hh.ru/vacancy/76810332?from=vacancy_se...</td>\n      <td>hh.ru</td>\n    </tr>\n    <tr>\n      <th>28</th>\n      <td>Python разработчик (Middle/Senior)</td>\n      <td>None</td>\n      <td>NaN</td>\n      <td>NaN</td>\n      <td>None</td>\n      <td>https://hh.ru/vacancy/75627492?from=vacancy_se...</td>\n      <td>hh.ru</td>\n    </tr>\n    <tr>\n      <th>29</th>\n      <td>Специалист по обучению и развитию</td>\n      <td>от 80 000 руб.</td>\n      <td>80000.0</td>\n      <td>NaN</td>\n      <td>руб.</td>\n      <td>https://hh.ru/vacancy/75635288?from=vacancy_se...</td>\n      <td>hh.ru</td>\n    </tr>\n  </tbody>\n</table>\n</div>"
     },
     "execution_count": 8,
     "metadata": {},
     "output_type": "execute_result"
    }
   ]
  }
 ],
 "metadata": {
  "kernelspec": {
   "display_name": "Python 3 (ipykernel)",
   "language": "python",
   "name": "python3"
  },
  "language_info": {
   "codemirror_mode": {
    "name": "ipython",
    "version": 3
   },
   "file_extension": ".py",
   "mimetype": "text/x-python",
   "name": "python",
   "nbconvert_exporter": "python",
   "pygments_lexer": "ipython3",
   "version": "3.9.13"
  },
  "colab": {
   "provenance": [],
   "collapsed_sections": []
  }
 },
 "nbformat": 4,
 "nbformat_minor": 5
}
