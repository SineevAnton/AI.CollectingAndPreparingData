{
 "cells": [
  {
   "cell_type": "markdown",
   "source": [
    "# Методы сбора и обработки данных из сети Интернет\n",
    "___\n",
    "___\n",
    "## Урок 2. Парсинг данных. HTML, DOM, XPath\n",
    "___"
   ],
   "metadata": {
    "collapsed": false
   }
  },
  {
   "cell_type": "markdown",
   "source": [
    "### Задачи\n",
    "\n",
    "1. Написать приложение и функцию, которые собирают основные новости с сайта на выбор dzen.ru, lenta.ru, mail.ru . Для парсинга использовать XPath\n",
    "Структура данных должна содержать:\n",
    "* название источника\n",
    "* наименование новости\n",
    "* ссылку на новость\n",
    "* дата публикации\n",
    "минимум один сайт максимум все"
   ],
   "metadata": {
    "collapsed": false
   }
  },
  {
   "cell_type": "code",
   "execution_count": 1,
   "id": "50b8cafa",
   "metadata": {
    "id": "50b8cafa",
    "executionInfo": {
     "status": "ok",
     "timestamp": 1664479032628,
     "user_tz": -180,
     "elapsed": 781,
     "user": {
      "displayName": "Эрик Муллагалиев",
      "userId": "09073712434566956400"
     }
    }
   },
   "outputs": [],
   "source": [
    "from pprint import pprint\n",
    "from lxml import html\n",
    "import requests\n",
    "import pandas as pd"
   ]
  },
  {
   "cell_type": "code",
   "execution_count": 2,
   "id": "098c2185",
   "metadata": {
    "id": "098c2185",
    "executionInfo": {
     "status": "ok",
     "timestamp": 1664479018088,
     "user_tz": -180,
     "elapsed": 50,
     "user": {
      "displayName": "Эрик Муллагалиев",
      "userId": "09073712434566956400"
     }
    }
   },
   "outputs": [],
   "source": [
    "USER_AGENT = 'Mozilla/5.0 (Macintosh; Intel Mac OS X 13_2) AppleWebKit/537.36 (KHTML, like Gecko) Chrome/109.0.0.0 Safari/537.36'\n",
    "URL = 'https://lenta.ru/'"
   ]
  },
  {
   "cell_type": "code",
   "execution_count": 3,
   "id": "0f70ee01",
   "metadata": {
    "id": "0f70ee01",
    "executionInfo": {
     "status": "ok",
     "timestamp": 1664479018096,
     "user_tz": -180,
     "elapsed": 57,
     "user": {
      "displayName": "Эрик Муллагалиев",
      "userId": "09073712434566956400"
     }
    }
   },
   "outputs": [],
   "source": [
    "headers = {\n",
    "    'User-Agent': USER_AGENT,\n",
    "}\n",
    "\n",
    "params = {\n",
    "    'sso_failed': '',\n",
    "}"
   ]
  },
  {
   "cell_type": "code",
   "execution_count": 4,
   "outputs": [],
   "source": [
    "def getContent(url, headers=None, params=None):\n",
    "    response = requests.get(url, headers=headers, params=params)\n",
    "    content_dom = html.fromstring(response.text)\n",
    "    print(response.url)\n",
    "    return content_dom"
   ],
   "metadata": {
    "collapsed": false
   }
  },
  {
   "cell_type": "code",
   "execution_count": 5,
   "id": "79f6b545",
   "metadata": {
    "id": "79f6b545",
    "executionInfo": {
     "status": "ok",
     "timestamp": 1664479018102,
     "user_tz": -180,
     "elapsed": 56,
     "user": {
      "displayName": "Эрик Муллагалиев",
      "userId": "09073712434566956400"
     }
    }
   },
   "outputs": [],
   "source": [
    "def parser(content_dom):\n",
    "    news_container = content_dom.xpath(\"//a[contains(@class, 'card-')]\")\n",
    "    news = []\n",
    "    for new_container in news_container:\n",
    "        new_source = new_container.xpath(\".//*[name()='svg']/*[name()='use']/attribute::*\")\n",
    "        if len(new_source) == 1:\n",
    "            new_source = new_source[0].split('ui-label_')\n",
    "            if len(new_source) == 2:\n",
    "                new_source = new_source[1]\n",
    "            else:\n",
    "                new_source = 'Lenta.ru'\n",
    "        else:\n",
    "            new_source = 'Lenta.ru' \n",
    "        new_text = new_container.xpath(\".//span[contains(@class, 'card-')]/text()\")\n",
    "        if len(new_text) == 1:\n",
    "            new_text = new_text[0]\n",
    "        else:\n",
    "            new_text = None  \n",
    "        new_link = URL + new_container.xpath(\"./@href\")[0]\n",
    "        \n",
    "        new_date = new_container.xpath(\".//time/text()\")\n",
    "        if len(new_date) == 1:\n",
    "            new_date = new_date[0]\n",
    "        else:\n",
    "            new_date = None\n",
    "        news_dict = {\n",
    "            'new_source': new_source,\n",
    "            'new_text': new_text,\n",
    "            'new_link': new_link,\n",
    "            'new_date': new_date,\n",
    "        }\n",
    "        news.append(news_dict)\n",
    "        \n",
    "    return news"
   ]
  },
  {
   "cell_type": "code",
   "execution_count": 6,
   "id": "1bba92a3",
   "metadata": {
    "id": "1bba92a3",
    "executionInfo": {
     "status": "ok",
     "timestamp": 1664479020345,
     "user_tz": -180,
     "elapsed": 966,
     "user": {
      "displayName": "Эрик Муллагалиев",
      "userId": "09073712434566956400"
     }
    },
    "colab": {
     "base_uri": "https://localhost:8080/"
    },
    "outputId": "d73f5603-8d08-4422-c73a-cace56bd1d8a"
   },
   "outputs": [
    {
     "name": "stdout",
     "output_type": "stream",
     "text": [
      "https://lenta.ru/\n"
     ]
    }
   ],
   "source": [
    "dom, response = getContent(URL, headers=headers)"
   ]
  },
  {
   "cell_type": "code",
   "source": [
    "pd.DataFrame(parser(dom))"
   ],
   "metadata": {
    "id": "8w-H2UxHbFZA",
    "executionInfo": {
     "status": "ok",
     "timestamp": 1664479020353,
     "user_tz": -180,
     "elapsed": 26,
     "user": {
      "displayName": "Эрик Муллагалиев",
      "userId": "09073712434566956400"
     }
    }
   },
   "id": "8w-H2UxHbFZA",
   "execution_count": 7,
   "outputs": [
    {
     "data": {
      "text/plain": "    new_source                                           new_text  \\\n0     Lenta.ru                                               None   \n1     Lenta.ru        Стало известно о новом мегапроекте в России   \n2     Lenta.ru                 76-летняя певица Шер сменила имидж   \n3     Lenta.ru  Врач назвала способы восстановиться после прие...   \n4     Lenta.ru  В Москве секс-работник убил мужчину во время с...   \n..         ...                                                ...   \n138   Lenta.ru        Как они изменят жизнь студентов и регионов?   \n139   Lenta.ru  Минобороны отчиталось о сбитом украинском Су-2...   \n140   Lenta.ru   Диссидент, идеолог Кремля, «дурачок для битья...   \n141   Lenta.ru  Российские военные уничтожили более 200 бойцов...   \n142   Lenta.ru  МИД обратился к принуждаемым вступать в ВСУ ро...   \n\n                                              new_link                new_date  \n0          https://lenta.ru//news/2023/03/03/soutnikv/                   17:24  \n1    https://lenta.ru//extlink/2023/03/03/mega/?int...                   17:47  \n2       https://lenta.ru//news/2023/03/03/cher_blondi/                   17:46  \n3        https://lenta.ru//news/2023/03/03/microflora/                   17:43  \n4    https://lenta.ru/https://moslenta.ru/news/city...                   17:36  \n..                                                 ...                     ...  \n138     https://lenta.ru//articles/2023/02/28/studgrd/  17:05, 28 февраля 2023  \n139          https://lenta.ru//news/2023/03/03/brieff/                   15:11  \n140  https://lenta.ru//articles/2023/02/27/glebpavl...  18:43, 27 февраля 2023  \n141       https://lenta.ru//news/2023/03/03/krasnolim/                   15:10  \n142   https://lenta.ru//news/2023/03/03/voyevatnenado/                   15:10  \n\n[143 rows x 4 columns]",
      "text/html": "<div>\n<style scoped>\n    .dataframe tbody tr th:only-of-type {\n        vertical-align: middle;\n    }\n\n    .dataframe tbody tr th {\n        vertical-align: top;\n    }\n\n    .dataframe thead th {\n        text-align: right;\n    }\n</style>\n<table border=\"1\" class=\"dataframe\">\n  <thead>\n    <tr style=\"text-align: right;\">\n      <th></th>\n      <th>new_source</th>\n      <th>new_text</th>\n      <th>new_link</th>\n      <th>new_date</th>\n    </tr>\n  </thead>\n  <tbody>\n    <tr>\n      <th>0</th>\n      <td>Lenta.ru</td>\n      <td>None</td>\n      <td>https://lenta.ru//news/2023/03/03/soutnikv/</td>\n      <td>17:24</td>\n    </tr>\n    <tr>\n      <th>1</th>\n      <td>Lenta.ru</td>\n      <td>Стало известно о новом мегапроекте в России</td>\n      <td>https://lenta.ru//extlink/2023/03/03/mega/?int...</td>\n      <td>17:47</td>\n    </tr>\n    <tr>\n      <th>2</th>\n      <td>Lenta.ru</td>\n      <td>76-летняя певица Шер сменила имидж</td>\n      <td>https://lenta.ru//news/2023/03/03/cher_blondi/</td>\n      <td>17:46</td>\n    </tr>\n    <tr>\n      <th>3</th>\n      <td>Lenta.ru</td>\n      <td>Врач назвала способы восстановиться после прие...</td>\n      <td>https://lenta.ru//news/2023/03/03/microflora/</td>\n      <td>17:43</td>\n    </tr>\n    <tr>\n      <th>4</th>\n      <td>Lenta.ru</td>\n      <td>В Москве секс-работник убил мужчину во время с...</td>\n      <td>https://lenta.ru/https://moslenta.ru/news/city...</td>\n      <td>17:36</td>\n    </tr>\n    <tr>\n      <th>...</th>\n      <td>...</td>\n      <td>...</td>\n      <td>...</td>\n      <td>...</td>\n    </tr>\n    <tr>\n      <th>138</th>\n      <td>Lenta.ru</td>\n      <td>Как они изменят жизнь студентов и регионов?</td>\n      <td>https://lenta.ru//articles/2023/02/28/studgrd/</td>\n      <td>17:05, 28 февраля 2023</td>\n    </tr>\n    <tr>\n      <th>139</th>\n      <td>Lenta.ru</td>\n      <td>Минобороны отчиталось о сбитом украинском Су-2...</td>\n      <td>https://lenta.ru//news/2023/03/03/brieff/</td>\n      <td>15:11</td>\n    </tr>\n    <tr>\n      <th>140</th>\n      <td>Lenta.ru</td>\n      <td>Диссидент, идеолог Кремля, «дурачок для битья...</td>\n      <td>https://lenta.ru//articles/2023/02/27/glebpavl...</td>\n      <td>18:43, 27 февраля 2023</td>\n    </tr>\n    <tr>\n      <th>141</th>\n      <td>Lenta.ru</td>\n      <td>Российские военные уничтожили более 200 бойцов...</td>\n      <td>https://lenta.ru//news/2023/03/03/krasnolim/</td>\n      <td>15:10</td>\n    </tr>\n    <tr>\n      <th>142</th>\n      <td>Lenta.ru</td>\n      <td>МИД обратился к принуждаемым вступать в ВСУ ро...</td>\n      <td>https://lenta.ru//news/2023/03/03/voyevatnenado/</td>\n      <td>15:10</td>\n    </tr>\n  </tbody>\n</table>\n<p>143 rows × 4 columns</p>\n</div>"
     },
     "execution_count": 7,
     "metadata": {},
     "output_type": "execute_result"
    }
   ]
  }
 ],
 "metadata": {
  "colab": {
   "collapsed_sections": [],
   "provenance": []
  },
  "kernelspec": {
   "display_name": "Python 3 (ipykernel)",
   "language": "python",
   "name": "python3"
  },
  "language_info": {
   "codemirror_mode": {
    "name": "ipython",
    "version": 3
   },
   "file_extension": ".py",
   "mimetype": "text/x-python",
   "name": "python",
   "nbconvert_exporter": "python",
   "pygments_lexer": "ipython3",
   "version": "3.8.13"
  }
 },
 "nbformat": 4,
 "nbformat_minor": 5
}
