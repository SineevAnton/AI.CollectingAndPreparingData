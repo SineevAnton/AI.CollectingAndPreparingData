{
 "cells": [
  {
   "cell_type": "markdown",
   "source": [
    "# Методы сбора и обработки данных из сети Интернет\n",
    "___\n",
    "___\n",
    "## Урок 1. Основы клиент-серверного взаимодействия. Работа с API\n",
    "___"
   ],
   "metadata": {
    "collapsed": false
   }
  },
  {
   "cell_type": "markdown",
   "source": [
    "### Задачи\n",
    "\n",
    "1. Посмотреть документацию к API GitHub, разобраться как вывести список репозиториев для конкретного пользователя, сохранить JSON-вывод в файле *.json.\n",
    "2. Изучить <a href = \"https://www.programmableweb.com/category/all/apis\">список открытых API</a>. Найти среди них любое, требующее авторизацию (любого типа). Выполнить запросы к нему, пройдя авторизацию. Ответ сервера записать в файл."
   ],
   "metadata": {
    "collapsed": false
   }
  },
  {
   "cell_type": "code",
   "execution_count": 1,
   "id": "d493e816",
   "metadata": {
    "id": "d493e816"
   },
   "outputs": [],
   "source": [
    "import requests\n",
    "from pprint import pprint\n",
    "import json"
   ]
  },
  {
   "cell_type": "markdown",
   "id": "89dd3828",
   "metadata": {
    "id": "89dd3828"
   },
   "source": [
    "### Задание 1.\n",
    "\n",
    "Посмотреть документацию к API GitHub, разобраться как вывести список репозиториев для конкретного пользователя, сохранить JSON-вывод в файле *.json.\n",
    "___"
   ]
  },
  {
   "cell_type": "markdown",
   "source": [
    "- <a href = \"https://docs.github.com/en/rest?apiVersion=2022-11-28\">Документация API github</a>\n",
    "- <a href = \"https://web-data-extractor.net/faq/spisok-aktualnyx-user-agent/?ysclid=leo9yp88zx78762340\">Список актуальных user-agent -ов.</a>"
   ],
   "metadata": {
    "collapsed": false
   }
  },
  {
   "cell_type": "code",
   "execution_count": 2,
   "id": "85237c35",
   "metadata": {
    "scrolled": true,
    "id": "85237c35"
   },
   "outputs": [
    {
     "name": "stdout",
     "output_type": "stream",
     "text": [
      "Репозитории пользователя SineevAnton:\n",
      "1) 3.C_sharp_Seminar4\n",
      "2) 3.C_sharp_Seminar5\n",
      "3) 3.C_sharp_Seminar6\n",
      "4) 3.C_sharp_Seminar7\n",
      "5) 3.C_sharp_Seminar8\n",
      "6) AI.CollectingAndPreparingData\n",
      "7) AI.ProbaTheory.CourseProject\n",
      "8) CSharpFastStartGB\n",
      "9) C_sharp_Seminar2HW\n",
      "10) C_Sharp_Seminar3HW\n",
      "11) Dev.AlgAndDataStructSem2\n",
      "12) Dev.AlgAndDataStructSem3\n",
      "13) Dev.AlgAndDataStructSem4\n",
      "14) Dev.FinalVerification\n",
      "15) Exceptions_Sem_1\n",
      "16) Exceptions_Sem_2\n",
      "17) Exceptions_Sem_3\n",
      "18) finalVerificationWork\n",
      "19) git-basics\n",
      "20) github-slideshow\n",
      "21) GitHW3\n",
      "22) https-github.com-SineevAnton-3.C_sharp_Seminar9\n",
      "23) JavaAcquaintanceSeminar1\n",
      "24) JavaAcquaintanceSeminar2\n",
      "25) JavaAcquaintanceSeminar3\n",
      "26) JavaAcquaintanceSeminar6\n",
      "27) Java_OOP_HW1\n",
      "28) Java_OOP_HW2\n",
      "29) Java_OOP_HW3\n",
      "30) Java_OOP_HW4\n"
     ]
    }
   ],
   "source": [
    "headers = {'User-Agent': 'Mozilla/5.0 (Macintosh; Intel Mac OS X 13_2) AppleWebKit/537.36 (KHTML, like Gecko) Chrome/109.0.0.0 Safari/537.36'}\n",
    "name = 'SineevAnton'\n",
    "url = f'https://api.github.com/users/{name}/repos'\n",
    "\n",
    "response = requests.get(url, headers=headers).json()\n",
    "\n",
    "with open('data.json', 'w', encoding='UTF-8') as f:\n",
    "    json.dump(response, f)\n",
    "\n",
    "print(f\"Репозитории пользователя {name}:\")\n",
    "for x, y in enumerate(response):\n",
    "    print(f\"{x+1}) {y.get('name')}\")"
   ]
  },
  {
   "cell_type": "markdown",
   "id": "ed4888af",
   "metadata": {
    "id": "ed4888af"
   },
   "source": [
    "### Задание 2.\n",
    "\n",
    "Изучить <a href = \"https://www.programmableweb.com/category/all/apis\">список открытых API</a>. Найти среди них любое, требующее авторизацию (любого типа). Выполнить запросы к нему, пройдя авторизацию. Ответ сервера записать в файл.\n",
    "(Ресурс по предлагаемой ссылке не работает, так что пока ограничимся API vk.)\n",
    "___"
   ]
  },
  {
   "cell_type": "code",
   "execution_count": null,
   "outputs": [],
   "source": [
    "url = 'https://api.vk.com/method/friends.get'\n",
    "token_file = open('token.txt', 'r')\n",
    "token = token_file.read()\n",
    "token_file.close()\n",
    "user_id = input(\"Enter the VK id number:\")\n",
    "params = {'user_id': user_id, 'v': 5.95, 'access_token': token}\n",
    "\n",
    "response = requests.get(url, params=params)\n",
    "print(response.text)"
   ],
   "metadata": {
    "collapsed": false
   }
  }
 ],
 "metadata": {
  "kernelspec": {
   "display_name": "Python 3 (ipykernel)",
   "language": "python",
   "name": "python3"
  },
  "language_info": {
   "codemirror_mode": {
    "name": "ipython",
    "version": 3
   },
   "file_extension": ".py",
   "mimetype": "text/x-python",
   "name": "python",
   "nbconvert_exporter": "python",
   "pygments_lexer": "ipython3",
   "version": "3.10.4"
  },
  "colab": {
   "provenance": [],
   "collapsed_sections": []
  }
 },
 "nbformat": 4,
 "nbformat_minor": 5
}
